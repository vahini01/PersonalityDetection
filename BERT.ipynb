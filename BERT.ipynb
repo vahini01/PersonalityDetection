{
 "cells": [
  {
   "cell_type": "code",
   "execution_count": null,
   "id": "7c92f014",
   "metadata": {},
   "outputs": [],
   "source": [
    "%pwd"
   ]
  },
  {
   "cell_type": "code",
   "execution_count": null,
   "id": "c15bc001",
   "metadata": {
    "executionInfo": {
     "elapsed": 15176,
     "status": "ok",
     "timestamp": 1641434230031,
     "user": {
      "displayName": "vahini",
      "photoUrl": "https://lh3.googleusercontent.com/a-/AOh14GhHTsSlWlULa1FavIyz3YWkccn_KU1l5Gvimbzj=s64",
      "userId": "09646027977877841530"
     },
     "user_tz": -330
    },
    "id": "t_5XQJ44kwNl"
   },
   "outputs": [],
   "source": [
    "%%capture\n",
    "!pip install transformers[sentencepiece]\n",
    "import transformers"
   ]
  },
  {
   "cell_type": "markdown",
   "id": "b24468ad",
   "metadata": {
    "id": "8CxzEfOaEsnH"
   },
   "source": [
    "Processing the data."
   ]
  },
  {
   "cell_type": "code",
   "execution_count": null,
   "id": "ce9224ad",
   "metadata": {
    "executionInfo": {
     "elapsed": 15,
     "status": "ok",
     "timestamp": 1641434277409,
     "user": {
      "displayName": "vahini",
      "photoUrl": "https://lh3.googleusercontent.com/a-/AOh14GhHTsSlWlULa1FavIyz3YWkccn_KU1l5Gvimbzj=s64",
      "userId": "09646027977877841530"
     },
     "user_tz": -330
    },
    "id": "3qH3ucZMHCEv"
   },
   "outputs": [],
   "source": [
    "PATH_TO_FOLER = \"../Name2Demographics/\""
   ]
  },
  {
   "cell_type": "code",
   "execution_count": null,
   "id": "f097c8cf",
   "metadata": {
    "colab": {
     "base_uri": "https://localhost:8080/"
    },
    "executionInfo": {
     "elapsed": 14,
     "status": "ok",
     "timestamp": 1641434277410,
     "user": {
      "displayName": "vahini",
      "photoUrl": "https://lh3.googleusercontent.com/a-/AOh14GhHTsSlWlULa1FavIyz3YWkccn_KU1l5Gvimbzj=s64",
      "userId": "09646027977877841530"
     },
     "user_tz": -330
    },
    "id": "lLY4Vdh6A7nk",
    "outputId": "99b1c5e4-ebc0-4a2b-8315-b88e7e1fa8a8"
   },
   "outputs": [],
   "source": [
    "!cd $PATH_TO_FOLDER"
   ]
  },
  {
   "cell_type": "code",
   "execution_count": 4,
   "id": "d7f9a73f",
   "metadata": {
    "executionInfo": {
     "elapsed": 759,
     "status": "ok",
     "timestamp": 1641434278159,
     "user": {
      "displayName": "vahini",
      "photoUrl": "https://lh3.googleusercontent.com/a-/AOh14GhHTsSlWlULa1FavIyz3YWkccn_KU1l5Gvimbzj=s64",
      "userId": "09646027977877841530"
     },
     "user_tz": -330
    },
    "id": "N7fZIrgXK4w6"
   },
   "outputs": [],
   "source": [
    "import pandas as pd\n",
    "import numpy as np\n",
    "import matplotlib.pyplot as plt \n",
    "\n",
    "\n",
    "import sys  \n",
    "sys.path.insert(1, '../Name2Demographics/Models/CBSEData/CBSEPreprocessing/')\n",
    "from parse_cbse import *"
   ]
  },
  {
   "cell_type": "code",
   "execution_count": 5,
   "id": "c1ef6174",
   "metadata": {
    "executionInfo": {
     "elapsed": 24575,
     "status": "ok",
     "timestamp": 1641434302731,
     "user": {
      "displayName": "vahini",
      "photoUrl": "https://lh3.googleusercontent.com/a-/AOh14GhHTsSlWlULa1FavIyz3YWkccn_KU1l5Gvimbzj=s64",
      "userId": "09646027977877841530"
     },
     "user_tz": -330
    },
    "id": "sJuDUz8yBn8h"
   },
   "outputs": [],
   "source": [
    "cbse_df = CBSEData()"
   ]
  },
  {
   "cell_type": "code",
   "execution_count": 6,
   "id": "surprising-grade",
   "metadata": {},
   "outputs": [],
   "source": [
    "cbse_df = cbse_df[:100]"
   ]
  },
  {
   "cell_type": "code",
   "execution_count": 7,
   "id": "880b8736",
   "metadata": {
    "executionInfo": {
     "elapsed": 8468,
     "status": "ok",
     "timestamp": 1641434311192,
     "user": {
      "displayName": "vahini",
      "photoUrl": "https://lh3.googleusercontent.com/a-/AOh14GhHTsSlWlULa1FavIyz3YWkccn_KU1l5Gvimbzj=s64",
      "userId": "09646027977877841530"
     },
     "user_tz": -330
    },
    "id": "A3tJjI7fORGo"
   },
   "outputs": [],
   "source": [
    "%%capture\n",
    "!pip install datasets"
   ]
  },
  {
   "cell_type": "code",
   "execution_count": 8,
   "id": "e3db60d4",
   "metadata": {
    "colab": {
     "base_uri": "https://localhost:8080/",
     "height": 177,
     "referenced_widgets": [
      "68bfb07cb25e4ce4a85e38666c7e1b4f",
      "5aaefebdaead49fbaf9715bccbd78082",
      "77372722efac41debc60274e7b716699",
      "4806bfaefe464e0fbaf43b9af29b499b",
      "a5eae83f7547431597b26b3d5991c7e9",
      "04624cdfce494a818e8ae54097e23c22",
      "81cf0ef1200a433cb3741d79485c193c",
      "cc8faafbf1f049428b1ce0d6a5794374",
      "db87e411485e438bab5b0327ecd988f1",
      "841322ce6f8b4a7eab75eabdac34dd7e",
      "f5ed894e9a1b4c5b8c65839f2b448cc0",
      "f528231a1d314f5c848c88504d13edad",
      "2c2632a9d48c4fdfa7cbf029b81ca8d6",
      "100c12ea0cb64e8299a108500709587f",
      "d9f1e01a6be549c681a2fa56b50b8ef3",
      "208308f0315c41149747f7cd1b705f19",
      "0884eda425a54a1a8b0789e7d8c80add",
      "5ac97b3b5530411a8f7111ad25fccdc0",
      "bffd33508e3f4efdb844330323305aaa",
      "dff0303d17ce4a06bcb423c25617fba0",
      "b18643b7bed7427fb33f73105fdff2ae",
      "16534a4204804ce88ef8dcc53988b6d5",
      "20da4f39553646c7bd2b36aa879d477f",
      "5ac01bd14cdc40649a9d55e5ef0ab156",
      "719d26522358460a8f02efc57eab631a",
      "f9b1d2003e3443279647aa859a2bd26c",
      "0cee0422ea1f4dd28f9bcdced03a127b",
      "b279aaad7ee941d083e2b8346fe7ac9f",
      "12d9fabed1b64259bfdd5500abf49923",
      "41260fcdbe6c4a9290fbc0d9732274a1",
      "f9346036d7ff4e97b90775a8b18cf995",
      "56890cca393b47909cf4ab1109ea0500",
      "db9c2cc4369f4340b1a5c2a43e1e57a9",
      "23d87a3027764c249eb3fd34bc5a924f",
      "f6f7b27087bd46f084e2cd7bbc443107",
      "2bf2fc336c2447b19115f028326e1511",
      "2ddc739ee07749bd99e501e2e46f04fe",
      "7745c91388064950ae83cfd41ba94f9e",
      "5e81d6b9658a45cb95fc0f2b6f560bbc",
      "a989d3fa528145f5a0c5c8ca92b251fc",
      "65b78ef32939411d94435eca4c37a8ce",
      "b9eec5d51d54494c84d09b158143c3ea",
      "cc7c57b780ff45e1a9dac4d848eab448",
      "ef8b6fc37cda4b50ba7d2da79e8d306c",
      "835d7e1e4fa6466d9479e41044e484de",
      "3a1d472db10c4aeb8ace5ea720158f33",
      "667c275c02e840fb918552fef71a0199",
      "f960a3565ed64e59ab16abe9f34c2ab5",
      "ad76deba87b04e55bfb0059729308baa",
      "314c8f21ad0941118113bbc8ed6b6f8a",
      "9d8413554e344f598e24205b1e772d37",
      "cbd0f4de1c324493908facda3fe9b4d6",
      "0adf94c1e7924e6c8042892d26fdfd62",
      "0077cdd03f4f473eb8cf82ad88622f41",
      "8f992e88ae5d4d26b46e141d59982d65"
     ]
    },
    "executionInfo": {
     "elapsed": 34729,
     "status": "ok",
     "timestamp": 1641434345889,
     "user": {
      "displayName": "vahini",
      "photoUrl": "https://lh3.googleusercontent.com/a-/AOh14GhHTsSlWlULa1FavIyz3YWkccn_KU1l5Gvimbzj=s64",
      "userId": "09646027977877841530"
     },
     "user_tz": -330
    },
    "id": "LZ9vdEXQzTwl",
    "outputId": "339a2ba6-ca3a-4fb5-ebc3-ef637f63745a"
   },
   "outputs": [],
   "source": [
    "from transformers import AutoTokenizer, AutoModelForSequenceClassification, AutoConfig\n",
    "tokenizer = AutoTokenizer.from_pretrained(\"vinai/bertweet-base\")\n",
    "model = AutoModelForSequenceClassification.from_pretrained(\"vinai/bertweet-base\", num_labels=2)\n",
    "\n",
    "\n",
    "from transformers import AutoConfig\n",
    "config = AutoConfig.from_pretrained(\"vinai/bertweet-base\")"
   ]
  },
  {
   "cell_type": "code",
   "execution_count": 9,
   "id": "0a7a7a73",
   "metadata": {},
   "outputs": [],
   "source": [
    "# train = pd.read_csv(\"Models/Data/CBSEData/cbse_train.csv\")\n",
    "# test = pd.read_csv(\"Models/Data/CBSEData/cbse_test.csv\")\n",
    "\n",
    "# X_train = list(train['Name'])\n",
    "# X_val = list(map(str,test['Name']))\n",
    "# y_train = list(map(int, train['Gender']))\n",
    "# y_val = list(map(int, test['Gender']))"
   ]
  },
  {
   "cell_type": "code",
   "execution_count": 10,
   "id": "7c4c3851",
   "metadata": {
    "executionInfo": {
     "elapsed": 7418,
     "status": "ok",
     "timestamp": 1641434353288,
     "user": {
      "displayName": "vahini",
      "photoUrl": "https://lh3.googleusercontent.com/a-/AOh14GhHTsSlWlULa1FavIyz3YWkccn_KU1l5Gvimbzj=s64",
      "userId": "09646027977877841530"
     },
     "user_tz": -330
    },
    "id": "oY4W-Fp9Lnvl"
   },
   "outputs": [],
   "source": [
    "from sklearn.model_selection import train_test_split\n",
    "\n",
    "X = list(cbse_df[\"Name\"])\n",
    "y = list(cbse_df[\"Gender\"].values.astype('int'))\n",
    "X_train, X_val, y_train, y_val = train_test_split(X, y, test_size=0.3)\n",
    "\n",
    "X_train_tokenized = tokenizer(X_train, padding=True, truncation=True)\n",
    "X_val_tokenized = tokenizer(X_val, padding=True, truncation=True)"
   ]
  },
  {
   "cell_type": "code",
   "execution_count": 11,
   "id": "9e23a5c0",
   "metadata": {
    "executionInfo": {
     "elapsed": 16,
     "status": "ok",
     "timestamp": 1641434353288,
     "user": {
      "displayName": "vahini",
      "photoUrl": "https://lh3.googleusercontent.com/a-/AOh14GhHTsSlWlULa1FavIyz3YWkccn_KU1l5Gvimbzj=s64",
      "userId": "09646027977877841530"
     },
     "user_tz": -330
    },
    "id": "R2TC9at8zt7I"
   },
   "outputs": [],
   "source": [
    "import torch\n",
    "\n",
    "# Create torch dataset\n",
    "class Dataset(torch.utils.data.Dataset):\n",
    "    def __init__(self, encodings, labels=None):\n",
    "        self.encodings = encodings\n",
    "        self.labels = labels\n",
    "\n",
    "    def __getitem__(self, idx):\n",
    "        item = {key: torch.tensor(val[idx]) for key, val in self.encodings.items()}\n",
    "        if self.labels:\n",
    "            item[\"labels\"] = torch.tensor(self.labels[idx])\n",
    "        return item\n",
    "\n",
    "    def __len__(self):\n",
    "        return len(self.encodings[\"input_ids\"])\n",
    "\n",
    "train_dataset = Dataset(X_train_tokenized, y_train)\n",
    "val_dataset = Dataset(X_val_tokenized, y_val)"
   ]
  },
  {
   "cell_type": "code",
   "execution_count": 12,
   "id": "b7834af3",
   "metadata": {
    "executionInfo": {
     "elapsed": 1989,
     "status": "ok",
     "timestamp": 1641434355262,
     "user": {
      "displayName": "vahini",
      "photoUrl": "https://lh3.googleusercontent.com/a-/AOh14GhHTsSlWlULa1FavIyz3YWkccn_KU1l5Gvimbzj=s64",
      "userId": "09646027977877841530"
     },
     "user_tz": -330
    },
    "id": "V2-NYFHc0Qxc"
   },
   "outputs": [],
   "source": [
    "from transformers import TrainingArguments\n",
    "# from transformers import Trainer"
   ]
  },
  {
   "cell_type": "code",
   "execution_count": 13,
   "id": "fdedea23",
   "metadata": {},
   "outputs": [],
   "source": [
    "from transformers import Trainer"
   ]
  },
  {
   "cell_type": "code",
   "execution_count": 14,
   "id": "private-night",
   "metadata": {},
   "outputs": [
    {
     "ename": "NameError",
     "evalue": "name 'wandb' is not defined",
     "output_type": "error",
     "traceback": [
      "\u001b[0;31m---------------------------------------------------------------------------\u001b[0m",
      "\u001b[0;31mNameError\u001b[0m                                 Traceback (most recent call last)",
      "\u001b[0;32m<ipython-input-14-73fef5f93929>\u001b[0m in \u001b[0;36m<module>\u001b[0;34m\u001b[0m\n\u001b[1;32m      1\u001b[0m \u001b[0;32mimport\u001b[0m \u001b[0mos\u001b[0m\u001b[0;34m\u001b[0m\u001b[0;34m\u001b[0m\u001b[0m\n\u001b[1;32m      2\u001b[0m \u001b[0;34m\u001b[0m\u001b[0m\n\u001b[0;32m----> 3\u001b[0;31m \u001b[0mwandb\u001b[0m\u001b[0;34m.\u001b[0m\u001b[0minit\u001b[0m\u001b[0;34m(\u001b[0m\u001b[0mmode\u001b[0m\u001b[0;34m=\u001b[0m\u001b[0;34m'disabled'\u001b[0m\u001b[0;34m)\u001b[0m\u001b[0;34m\u001b[0m\u001b[0;34m\u001b[0m\u001b[0m\n\u001b[0m",
      "\u001b[0;31mNameError\u001b[0m: name 'wandb' is not defined"
     ]
    }
   ],
   "source": [
    "import os\n",
    "\n",
    "wandb.init(mode='disabled')"
   ]
  },
  {
   "cell_type": "code",
   "execution_count": 15,
   "id": "ae2b589d",
   "metadata": {
    "colab": {
     "base_uri": "https://localhost:8080/",
     "height": 422
    },
    "executionInfo": {
     "elapsed": 988552,
     "status": "ok",
     "timestamp": 1641436988941,
     "user": {
      "displayName": "vahini",
      "photoUrl": "https://lh3.googleusercontent.com/a-/AOh14GhHTsSlWlULa1FavIyz3YWkccn_KU1l5Gvimbzj=s64",
      "userId": "09646027977877841530"
     },
     "user_tz": -330
    },
    "id": "PWZmEi8y2btm",
    "outputId": "f2672846-1ecc-4f06-9ffd-9d7cd5f2eab8"
   },
   "outputs": [
    {
     "name": "stderr",
     "output_type": "stream",
     "text": [
      "/home/souvic/anaconda3/envs/py38/lib/python3.8/site-packages/torch/nn/parallel/data_parallel.py:30: UserWarning: \n",
      "    There is an imbalance between your GPUs. You may want to exclude GPU 1 which\n",
      "    has less than 75% of the memory or cores of GPU 0. You can do so by setting\n",
      "    the device_ids argument to DataParallel, or by setting the CUDA_VISIBLE_DEVICES\n",
      "    environment variable.\n",
      "  warnings.warn(imbalance_warn.format(device_ids[min_pos], device_ids[max_pos]))\n",
      "Failed to detect the name of this notebook, you can set it manually with the WANDB_NOTEBOOK_NAME environment variable to enable code saving.\n",
      "\u001b[34m\u001b[1mwandb\u001b[0m: Currently logged in as: \u001b[33mvahini10\u001b[0m (use `wandb login --relogin` to force relogin)\n"
     ]
    },
    {
     "data": {
      "text/html": [
       "wandb version 0.12.16 is available!  To upgrade, please run:\n",
       " $ pip install wandb --upgrade"
      ],
      "text/plain": [
       "<IPython.core.display.HTML object>"
      ]
     },
     "metadata": {},
     "output_type": "display_data"
    },
    {
     "data": {
      "text/html": [
       "Tracking run with wandb version 0.12.11"
      ],
      "text/plain": [
       "<IPython.core.display.HTML object>"
      ]
     },
     "metadata": {},
     "output_type": "display_data"
    },
    {
     "data": {
      "text/html": [
       "Run data is saved locally in <code>/home/souvic/mounted/btp/vahini/Name2Demographics/wandb/run-20220516_105819-27v3m2ib</code>"
      ],
      "text/plain": [
       "<IPython.core.display.HTML object>"
      ]
     },
     "metadata": {},
     "output_type": "display_data"
    },
    {
     "data": {
      "text/html": [
       "Syncing run <strong><a href=\"https://wandb.ai/vahini10/huggingface/runs/27v3m2ib\" target=\"_blank\">output</a></strong> to <a href=\"https://wandb.ai/vahini10/huggingface\" target=\"_blank\">Weights & Biases</a> (<a href=\"https://wandb.me/run\" target=\"_blank\">docs</a>)<br/>"
      ],
      "text/plain": [
       "<IPython.core.display.HTML object>"
      ]
     },
     "metadata": {},
     "output_type": "display_data"
    },
    {
     "name": "stderr",
     "output_type": "stream",
     "text": [
      "/home/souvic/anaconda3/envs/py38/lib/python3.8/site-packages/torch/nn/parallel/_functions.py:65: UserWarning: Was asked to gather along dimension 0, but all input tensors were scalars; will instead unsqueeze and return a vector.\n",
      "  warnings.warn('Was asked to gather along dimension 0, but all '\n"
     ]
    },
    {
     "data": {
      "text/html": [
       "\n",
       "    <div>\n",
       "      \n",
       "      <progress value='1' max='1' style='width:300px; height:20px; vertical-align: middle;'></progress>\n",
       "      [1/1 00:00, Epoch 1/1]\n",
       "    </div>\n",
       "    <table border=\"1\" class=\"dataframe\">\n",
       "  <thead>\n",
       "    <tr style=\"text-align: left;\">\n",
       "      <th>Step</th>\n",
       "      <th>Training Loss</th>\n",
       "      <th>Validation Loss</th>\n",
       "    </tr>\n",
       "  </thead>\n",
       "  <tbody>\n",
       "  </tbody>\n",
       "</table><p>"
      ],
      "text/plain": [
       "<IPython.core.display.HTML object>"
      ]
     },
     "metadata": {},
     "output_type": "display_data"
    },
    {
     "data": {
      "text/plain": [
       "TrainOutput(global_step=1, training_loss=0.7042415738105774, metrics={'train_runtime': 9.0071, 'train_samples_per_second': 7.772, 'train_steps_per_second': 0.111, 'total_flos': 323749931400.0, 'train_loss': 0.7042415738105774, 'epoch': 1.0})"
      ]
     },
     "execution_count": 15,
     "metadata": {},
     "output_type": "execute_result"
    }
   ],
   "source": [
    "from sklearn.metrics import accuracy_score, recall_score, precision_score, f1_score\n",
    "from transformers import EarlyStoppingCallback\n",
    "\n",
    "\n",
    "# Define Trainer parameters\n",
    "def compute_metrics(p):\n",
    "    pred, labels = p\n",
    "    pred = np.argmax(pred, axis=1)\n",
    "\n",
    "    accuracy = accuracy_score(y_true=labels, y_pred=pred)\n",
    "    f_recall = recall_score(y_true=labels, y_pred=pred, pos_label=0)\n",
    "    f_precision = precision_score(y_true=labels, y_pred=pred, pos_label=0)\n",
    "    f_f1 = f1_score(y_true=labels, y_pred=pred,pos_label=0)\n",
    "    m_recall = recall_score(y_true=labels, y_pred=pred, pos_label=1)\n",
    "    m_precision = precision_score(y_true=labels, y_pred=pred, pos_label=1)\n",
    "    m_f1 = f1_score(y_true=labels, y_pred=pred,pos_label=1)\n",
    "    return {\"accuracy\": accuracy, \"female_precision\": f_precision, \"female_recall\":f_recall, \"female_f1\": f_f1,\n",
    "        \"male_precision\": m_precision, \"male_recall\": m_recall, \"male_f1\": m_f1 }\n",
    "\n",
    "# Define Trainer\n",
    "args = TrainingArguments(\n",
    "    output_dir=\"output\",\n",
    "    evaluation_strategy=\"steps\",\n",
    "    eval_steps=500,\n",
    "    per_device_train_batch_size=50,\n",
    "    per_device_eval_batch_size=50,\n",
    "    num_train_epochs=1,\n",
    "    seed=42,\n",
    "    load_best_model_at_end=True,\n",
    ")\n",
    "trainer = Trainer(\n",
    "    model=model,\n",
    "    args=args,\n",
    "    train_dataset=train_dataset,\n",
    "    eval_dataset=val_dataset,\n",
    "    compute_metrics=compute_metrics,\n",
    "    callbacks=[EarlyStoppingCallback(early_stopping_patience=3)],\n",
    ")\n",
    "\n",
    "# Train pre-trained model\n",
    "trainer.train()"
   ]
  },
  {
   "cell_type": "code",
   "execution_count": 16,
   "id": "3c2a3fc0",
   "metadata": {
    "colab": {
     "base_uri": "https://localhost:8080/",
     "height": 74
    },
    "executionInfo": {
     "elapsed": 153018,
     "status": "ok",
     "timestamp": 1641437410562,
     "user": {
      "displayName": "vahini",
      "photoUrl": "https://lh3.googleusercontent.com/a-/AOh14GhHTsSlWlULa1FavIyz3YWkccn_KU1l5Gvimbzj=s64",
      "userId": "09646027977877841530"
     },
     "user_tz": -330
    },
    "id": "wplb-lGb1j6G",
    "outputId": "88d9bc1f-115c-46de-db42-1b8e103825d4"
   },
   "outputs": [
    {
     "name": "stderr",
     "output_type": "stream",
     "text": [
      "/home/souvic/anaconda3/envs/py38/lib/python3.8/site-packages/torch/nn/parallel/data_parallel.py:30: UserWarning: \n",
      "    There is an imbalance between your GPUs. You may want to exclude GPU 1 which\n",
      "    has less than 75% of the memory or cores of GPU 0. You can do so by setting\n",
      "    the device_ids argument to DataParallel, or by setting the CUDA_VISIBLE_DEVICES\n",
      "    environment variable.\n",
      "  warnings.warn(imbalance_warn.format(device_ids[min_pos], device_ids[max_pos]))\n"
     ]
    },
    {
     "data": {
      "text/html": [
       "\n",
       "    <div>\n",
       "      \n",
       "      <progress value='1' max='1' style='width:300px; height:20px; vertical-align: middle;'></progress>\n",
       "      [1/1 : < :]\n",
       "    </div>\n",
       "    "
      ],
      "text/plain": [
       "<IPython.core.display.HTML object>"
      ]
     },
     "metadata": {},
     "output_type": "display_data"
    },
    {
     "name": "stdout",
     "output_type": "stream",
     "text": [
      "{'eval_loss': 0.5205672979354858, 'eval_accuracy': 1.0, 'eval_female_precision': 1.0, 'eval_female_recall': 1.0, 'eval_female_f1': 1.0, 'eval_male_precision': 0.0, 'eval_male_recall': 0.0, 'eval_male_f1': 0.0, 'eval_runtime': 0.2188, 'eval_samples_per_second': 137.093, 'eval_steps_per_second': 4.57, 'epoch': 1.0}\n"
     ]
    },
    {
     "name": "stderr",
     "output_type": "stream",
     "text": [
      "/home/souvic/anaconda3/envs/py38/lib/python3.8/site-packages/sklearn/metrics/_classification.py:1318: UndefinedMetricWarning: Recall is ill-defined and being set to 0.0 due to no true samples. Use `zero_division` parameter to control this behavior.\n",
      "  _warn_prf(average, modifier, msg_start, len(result))\n",
      "/home/souvic/anaconda3/envs/py38/lib/python3.8/site-packages/sklearn/metrics/_classification.py:1318: UndefinedMetricWarning: Precision is ill-defined and being set to 0.0 due to no predicted samples. Use `zero_division` parameter to control this behavior.\n",
      "  _warn_prf(average, modifier, msg_start, len(result))\n",
      "/home/souvic/anaconda3/envs/py38/lib/python3.8/site-packages/sklearn/metrics/_classification.py:1580: UndefinedMetricWarning: F-score is ill-defined and being set to 0.0 due to no true nor predicted samples. Use `zero_division` parameter to control this behavior.\n",
      "  _warn_prf(average, \"true nor predicted\", \"F-score is\", len(true_sum))\n"
     ]
    }
   ],
   "source": [
    "metrics=trainer.evaluate()\n",
    "print(metrics)"
   ]
  },
  {
   "cell_type": "code",
   "execution_count": 17,
   "id": "2d926ab3",
   "metadata": {
    "colab": {
     "base_uri": "https://localhost:8080/"
    },
    "executionInfo": {
     "elapsed": 434,
     "status": "ok",
     "timestamp": 1641437677027,
     "user": {
      "displayName": "vahini",
      "photoUrl": "https://lh3.googleusercontent.com/a-/AOh14GhHTsSlWlULa1FavIyz3YWkccn_KU1l5Gvimbzj=s64",
      "userId": "09646027977877841530"
     },
     "user_tz": -330
    },
    "id": "tdc17OvBGn_S",
    "outputId": "b0f39b0c-1f65-41d9-f0e3-d85e915b0cfd",
    "scrolled": true
   },
   "outputs": [
    {
     "data": {
      "text/plain": [
       "{'eval_loss': 0.5205672979354858,\n",
       " 'eval_accuracy': 1.0,\n",
       " 'eval_female_precision': 1.0,\n",
       " 'eval_female_recall': 1.0,\n",
       " 'eval_female_f1': 1.0,\n",
       " 'eval_male_precision': 0.0,\n",
       " 'eval_male_recall': 0.0,\n",
       " 'eval_male_f1': 0.0,\n",
       " 'eval_runtime': 0.2188,\n",
       " 'eval_samples_per_second': 137.093,\n",
       " 'eval_steps_per_second': 4.57,\n",
       " 'epoch': 1.0}"
      ]
     },
     "execution_count": 17,
     "metadata": {},
     "output_type": "execute_result"
    }
   ],
   "source": [
    "metrics"
   ]
  },
  {
   "cell_type": "code",
   "execution_count": null,
   "id": "1326fe73",
   "metadata": {
    "id": "5Qph82vIU3Bf"
   },
   "outputs": [],
   "source": [
    "# model.save_pretrained(\"Models/CBSEData/BERT/SavedModel/BERT\")"
   ]
  },
  {
   "cell_type": "code",
   "execution_count": null,
   "id": "4e291f0c",
   "metadata": {},
   "outputs": [],
   "source": []
  },
  {
   "cell_type": "code",
   "execution_count": null,
   "id": "c2bfdf71",
   "metadata": {},
   "outputs": [],
   "source": []
  },
  {
   "cell_type": "code",
   "execution_count": null,
   "id": "fundamental-miller",
   "metadata": {},
   "outputs": [],
   "source": [
    "%pwd\n",
    "\n",
    "%%capture\n",
    "!pip install transformers[sentencepiece]\n",
    "import transformers\n",
    "\n",
    "Processing the data.\n",
    "\n",
    "PATH_TO_FOLER = \"../Name2Demographics/\"\n",
    "\n",
    "!cd $PATH_TO_FOLDER\n",
    "\n",
    "import pandas as pd\n",
    "import numpy as np\n",
    "import matplotlib.pyplot as plt \n",
    "\n",
    "\n",
    "import sys  \n",
    "sys.path.insert(1, '../Name2Demographics/Models/CBSEData/CBSEPreprocessing/')\n",
    "from parse_cbse import *\n",
    "\n",
    "cbse_df = CBSEData()\n",
    "\n",
    "cbse_df = cbse_df[:100]\n",
    "\n",
    "%%capture\n",
    "!pip install datasets\n",
    "\n",
    "from transformers import AutoTokenizer, AutoModelForSequenceClassification, AutoConfig\n",
    "tokenizer = AutoTokenizer.from_pretrained(\"vinai/bertweet-base\")\n",
    "model = AutoModelForSequenceClassification.from_pretrained(\"vinai/bertweet-base\", num_labels=2)\n",
    "\n",
    "\n",
    "from transformers import AutoConfig\n",
    "config = AutoConfig.from_pretrained(\"vinai/bertweet-base\")\n",
    "\n",
    "# train = pd.read_csv(\"Models/Data/CBSEData/cbse_train.csv\")\n",
    "# test = pd.read_csv(\"Models/Data/CBSEData/cbse_test.csv\")\n",
    "\n",
    "# X_train = list(train['Name'])\n",
    "# X_val = list(map(str,test['Name']))\n",
    "# y_train = list(map(int, train['Gender']))\n",
    "# y_val = list(map(int, test['Gender']))\n",
    "\n",
    "from sklearn.model_selection import train_test_split\n",
    "\n",
    "X = list(cbse_df[\"Name\"])\n",
    "y = list(cbse_df[\"Gender\"].values.astype('int'))\n",
    "X_train, X_val, y_train, y_val = train_test_split(X, y, test_size=0.3)\n",
    "\n",
    "X_train_tokenized = tokenizer(X_train, padding=True, truncation=True)\n",
    "X_val_tokenized = tokenizer(X_val, padding=True, truncation=True)\n",
    "\n",
    "import torch\n",
    "\n",
    "# Create torch dataset\n",
    "class Dataset(torch.utils.data.Dataset):\n",
    "    def __init__(self, encodings, labels=None):\n",
    "        self.encodings = encodings\n",
    "        self.labels = labels\n",
    "\n",
    "    def __getitem__(self, idx):\n",
    "        item = {key: torch.tensor(val[idx]) for key, val in self.encodings.items()}\n",
    "        if self.labels:\n",
    "            item[\"labels\"] = torch.tensor(self.labels[idx])\n",
    "        return item\n",
    "\n",
    "    def __len__(self):\n",
    "        return len(self.encodings[\"input_ids\"])\n",
    "\n",
    "train_dataset = Dataset(X_train_tokenized, y_train)\n",
    "val_dataset = Dataset(X_val_tokenized, y_val)\n",
    "\n",
    "from transformers import TrainingArguments\n",
    "# from transformers import Trainer\n",
    "\n",
    "from transformers import Trainer\n",
    "\n",
    "import os\n",
    "\n",
    "wandb.init(mode='disabled')\n",
    "\n",
    "from sklearn.metrics import accuracy_score, recall_score, precision_score, f1_score\n",
    "from transformers import EarlyStoppingCallback\n",
    "\n",
    "\n",
    "# Define Trainer parameters\n",
    "def compute_metrics(p):\n",
    "    pred, labels = p\n",
    "    pred = np.argmax(pred, axis=1)\n",
    "\n",
    "    accuracy = accuracy_score(y_true=labels, y_pred=pred)\n",
    "    f_recall = recall_score(y_true=labels, y_pred=pred, pos_label=0)\n",
    "    f_precision = precision_score(y_true=labels, y_pred=pred, pos_label=0)\n",
    "    f_f1 = f1_score(y_true=labels, y_pred=pred,pos_label=0)\n",
    "    m_recall = recall_score(y_true=labels, y_pred=pred, pos_label=1)\n",
    "    m_precision = precision_score(y_true=labels, y_pred=pred, pos_label=1)\n",
    "    m_f1 = f1_score(y_true=labels, y_pred=pred,pos_label=1)\n",
    "    return {\"accuracy\": accuracy, \"female_precision\": f_precision, \"female_recall\":f_recall, \"female_f1\": f_f1,\n",
    "        \"male_precision\": m_precision, \"male_recall\": m_recall, \"male_f1\": m_f1 }\n",
    "\n",
    "# Define Trainer\n",
    "args = TrainingArguments(\n",
    "    output_dir=\"output\",\n",
    "    evaluation_strategy=\"steps\",\n",
    "    eval_steps=500,\n",
    "    per_device_train_batch_size=50,\n",
    "    per_device_eval_batch_size=50,\n",
    "    num_train_epochs=1,\n",
    "    seed=42,\n",
    "    load_best_model_at_end=True,\n",
    ")\n",
    "trainer = Trainer(\n",
    "    model=model,\n",
    "    args=args,\n",
    "    train_dataset=train_dataset,\n",
    "    eval_dataset=val_dataset,\n",
    "    compute_metrics=compute_metrics,\n",
    "    callbacks=[EarlyStoppingCallback(early_stopping_patience=3)],\n",
    ")\n",
    "\n",
    "# Train pre-trained model\n",
    "trainer.train()\n",
    "\n",
    "metrics=trainer.evaluate()\n",
    "print(metrics)\n",
    "\n",
    "metrics\n",
    "\n",
    "# model.save_pretrained(\"Models/CBSEData/BERT/SavedModel/BERT\")\n",
    "\n",
    "\n",
    "\n"
   ]
  }
 ],
 "metadata": {
  "kernelspec": {
   "display_name": "Python 3",
   "language": "python",
   "name": "python3"
  },
  "language_info": {
   "codemirror_mode": {
    "name": "ipython",
    "version": 3
   },
   "file_extension": ".py",
   "mimetype": "text/x-python",
   "name": "python",
   "nbconvert_exporter": "python",
   "pygments_lexer": "ipython3",
   "version": "3.8.0"
  }
 },
 "nbformat": 4,
 "nbformat_minor": 5
}
